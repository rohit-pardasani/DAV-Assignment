{
 "cells": [
  {
   "cell_type": "markdown",
   "metadata": {},
   "source": [
    "# Implemeting Feature Sign Search Algorithm for Sparse Coding"
   ]
  },
  {
   "cell_type": "code",
   "execution_count": 1,
   "metadata": {
    "collapsed": true
   },
   "outputs": [],
   "source": [
    "import numpy as np\n",
    "\n",
    "# B = Bases matrix (k x n)\n",
    "#     k = dimension of bases vectors\n",
    "#     n = number of vectors\n",
    "\n",
    "# Y = Vector to encoded (k x 1) \n",
    "# X = Array of Coefficients (n x 1) \n",
    "# g = Gamma (scalar constant)\n",
    "# Aim is to find X such that Y = BX (X such that BX as close to Y as possible)\n",
    "\n",
    "\n",
    "def feature_sign_search(B,Y,g):\n",
    "    \n",
    "    #Step 1\n",
    "    print 'Step1'\n",
    "    (k,n) = np.shape(B)\n",
    "    k1 = np.shape(Y)[0]\n",
    "    assert(k == k1)\n",
    "    X = np.zeros(n, dtype = np.float32)\n",
    "    T = np.zeros(n, dtype = np.float32)\n",
    "    #X = np.array([1,-1,0,1,2], dtype=np.float32)\n",
    "    ZERO = 1e-6\n",
    "    active_set = list()\n",
    "    condA = True\n",
    "    condB = True\n",
    "    \n",
    "    while condB:\n",
    "        # Step 2\n",
    "        print 'Step2'\n",
    "        condA = True\n",
    "        Z = Y - np.matmul(B,X)\n",
    "        #print Z\n",
    "        PD = -2*(np.matmul(Z,B))\n",
    "        PDabs = np.abs(PD)\n",
    "        #print PDabs\n",
    "        i = np.argmax(PDabs)\n",
    "        while X[i] != 0:\n",
    "            PDabs[i] = 0\n",
    "            i = np.argmax(PDabs)\n",
    " \n",
    "        if PD[i] > g:\n",
    "            T[i] = -1\n",
    "            active_set.append(i)\n",
    "        if PD[i] < -g:\n",
    "            T[i] = 1\n",
    "            active_set.append(i)\n",
    "        #print T\n",
    "        #print active_set\n",
    "    \n",
    "    \n",
    "        while condA:\n",
    "            # Step 3\n",
    "            print 'Step3'\n",
    "            p = len(active_set) # p is number of vectors we are using now\n",
    "            Ba = B[:,active_set] # Ba = k x p\n",
    "            Xa = X[active_set] # size(Xa) = p\n",
    "            Ta = T[active_set] # size(Ta) = p\n",
    "            W = np.reshape(np.matmul(np.transpose(Ba),Ba),(p,p))\n",
    "            Winv = np.linalg.inv(W)\n",
    "            U = np.matmul(np.transpose(Ba),Y) - (g/2)*Ta\n",
    "            Xb = np.matmul(Winv,U)\n",
    "            Xb = np.reshape(Xb,p)\n",
    "            # ObjF = (np.linalg.norm(Y - np.matmul(Ba,Xa)))**2 + g*np.dot(Ta,Xa)\n",
    "            # Above is objective function that needs to be minimized\n",
    "            N = 100 # Number of points for line search\n",
    "            ObjFopt = (np.linalg.norm(Y - np.matmul(Ba,Xb)))**2 + g*np.dot(Ta,Xb) #Assuming that this is optimal value of ObjF\n",
    "            Xopt = Xb #Point at which objective function is optimal based on assumption\n",
    "            Xprev = Xa #Starting the iteration\n",
    "            for jj in range(N):\n",
    "                Xcurr = Xa + (float(jj)/N)*(Xb - Xa)\n",
    "                signChange = sum(np.abs(np.sign(Xprev) - np.sign(Xcurr)))\n",
    "                if signChange >= 1:\n",
    "                    ObjFcurr = (np.linalg.norm(Y - np.matmul(Ba,Xcurr)))**2 + g*np.dot(Ta,Xcurr)\n",
    "                    if ObjFcurr < ObjFopt:\n",
    "                        ObjFopt = ObjFcurr\n",
    "                        Xopt = Xcurr\n",
    "                Xprev = Xcurr      \n",
    "            Xa = Xopt\n",
    "            X[active_set] = Xa\n",
    "            T = np.sign(X)\n",
    "            new_active_set = list()\n",
    "            for e in active_set:\n",
    "                if X[e] != 0:\n",
    "                    new_active_set.append(e) \n",
    "            active_set = new_active_set\n",
    "            \n",
    "            condA = False\n",
    "            # Step 4\n",
    "            print 'Step4'\n",
    "            for ii in active_set:\n",
    "                hii = -2*np.dot((Y - np.matmul(B,X)),B[:,ii]) + g*np.sign(X[ii])\n",
    "                if abs(hii) > ZERO:\n",
    "                    print abs(hii)\n",
    "                    condA = True # goto step 3\n",
    "            \n",
    "        condB = False\n",
    "        for ii in range(n):\n",
    "            if ii not in active_set:\n",
    "                hii = -2*np.dot((Y - np.matmul(B,X)),B[:,ii])\n",
    "                if abs(hii) > g:\n",
    "                    condB = True # goto step 2\n",
    "    return X"
   ]
  },
  {
   "cell_type": "markdown",
   "metadata": {},
   "source": [
    "$$Following \\ is \\ a \\ small \\ example \\ to \\ demonstrate \\ the \\ working \\ of \\ code \\ and \\ check \\ its \\ correctness $$\n",
    "$$Consider \\ \\vec{y} \\ as \\ a \\ 3 \\ dimensional \\ vector $$\n",
    "$$\\vec{y}=\\begin{bmatrix}1 & 2 & 3 \\end{bmatrix}^T$$\n",
    "$$Consider \\ 5 \\ vectors \\ in \\ 3 \\ dimensional \\ space $$\n",
    "$$\\vec{b}_1=\\begin{bmatrix}1 & -2 & -1 \\end{bmatrix}^T$$\n",
    "$$\\vec{b}_2=\\begin{bmatrix}2 & 1& 1 \\end{bmatrix}^T$$\n",
    "$$\\vec{b}_3=\\begin{bmatrix}1 & 1 & 1 \\end{bmatrix}^T $$\n",
    "$$\\vec{b}_4=\\begin{bmatrix}-1 & -1 & 2 \\end{bmatrix}^T$$\n",
    "$$\\vec{b}_5=\\begin{bmatrix}-1 & 0 & 1 \\end{bmatrix}^T$$\n",
    "$$\\\\$$\n",
    "$$We\\ want \\ to \\ find \\ coefficients \\ x_i \\ s \\ such \\ that$$\n",
    "$\\\\$\n",
    "$$\\vec{y} = x_1\\vec{b}_1 + x_2\\vec{b}_2 + x_3\\vec{b}_3 + x_4\\vec{b}_4 + x_5\\vec{b}_5$$"
   ]
  },
  {
   "cell_type": "code",
   "execution_count": 2,
   "metadata": {},
   "outputs": [
    {
     "name": "stdout",
     "output_type": "stream",
     "text": [
      "Step1\n",
      "Step2\n",
      "Step3\n",
      "Step4\n",
      "Step2\n",
      "Step3\n",
      "Step4\n",
      "Step2\n",
      "Step3\n",
      "Step4\n",
      "[-0.71428567  1.14285707  0.          0.57142848  0.        ]\n"
     ]
    }
   ],
   "source": [
    "B = np.array([[1,2,1,-1,-1],[-2,1,1,-1,0],[-1,1,1,2,1]])\n",
    "Y = np.array([1,2,3])\n",
    "g = 0.000001\n",
    "X = feature_sign_search(B,Y,g)\n",
    "print X"
   ]
  },
  {
   "cell_type": "code",
   "execution_count": 3,
   "metadata": {},
   "outputs": [
    {
     "name": "stdout",
     "output_type": "stream",
     "text": [
      "[ 1.          1.99999994  2.9999997 ]\n"
     ]
    }
   ],
   "source": [
    "print np.matmul(B,X)"
   ]
  },
  {
   "cell_type": "markdown",
   "metadata": {},
   "source": [
    "$$We \\ clealy \\ see \\ that \\ resulting \\ x_i s \\ give \\ \\vec{y} \\ components \\ to \\ accuracy \\ of \\ order \\ of  \\ 10^{-7}$$"
   ]
  }
 ],
 "metadata": {
  "kernelspec": {
   "display_name": "Python 2",
   "language": "python",
   "name": "python2"
  },
  "language_info": {
   "codemirror_mode": {
    "name": "ipython",
    "version": 2
   },
   "file_extension": ".py",
   "mimetype": "text/x-python",
   "name": "python",
   "nbconvert_exporter": "python",
   "pygments_lexer": "ipython2",
   "version": "2.7.13"
  }
 },
 "nbformat": 4,
 "nbformat_minor": 2
}
